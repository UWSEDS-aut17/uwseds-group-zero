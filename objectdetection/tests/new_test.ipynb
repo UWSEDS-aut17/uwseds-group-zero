{
 "cells": [
  {
   "cell_type": "code",
   "execution_count": 1,
   "metadata": {},
   "outputs": [],
   "source": [
    "import unittest\n",
    "import cv2\n",
    "import os\n",
    "import sys\n",
    "import numpy as np\n",
    "from tkinter import *\n",
    "sys.path.insert(0, '../')\n",
    "from submodule import object_detection_main as od\n",
    "from submodule import appfunction as appfun\n",
    "from user_interface import ObjectDetection_ui as ui\n",
    "\n",
    "class Object_detector_test(unittest.TestCase):\n",
    "    '''\n",
    "    This class tests main function used in this detector.\n",
    "    '''\n",
    "    \n",
    "        \n",
    "    def test_input_image(self):\n",
    "        img_input = 'test_image.jpg'\n",
    "        modelPath = '../ssd_mobilenet_v1_coco_11_06_2017/frozen_inference_graph.pb'\n",
    "        labelMapPath = '../data/mscoco_label_map.pbtxt'\n",
    "        image_done, testval = appfun.input_image(img_input, modelPath, labelMapPath)\n",
    "        self.assertTrue(np.isclose(testval, 1))\n",
    "    \n",
    "    def test_input_cam(self):\n",
    "        modelPath = '../ssd_mobilenet_v1_coco_11_06_2017/frozen_inference_graph.pb'\n",
    "        labelMapPath = '../data/mscoco_label_map.pbtxt'\n",
    "        self.assertTrue(np.isclose(appfun.input_cam(modelPath, labelMapPath, True), 1)"
   ]
  },
  {
   "cell_type": "code",
   "execution_count": null,
   "metadata": {},
   "outputs": [],
   "source": [
    "img_input = 'test_image.jpg'\n",
    "        modelPath = '../ssd_mobilenet_v1_coco_11_06_2017/frozen_inference_graph.pb'\n",
    "        labelMapPath = '../data/mscoco_label_map.pbtxt'\n",
    "        image_done, testval = appfun.input_image(img_input, modelPath, labelMapPath)\n",
    "        self.assertTrue(np.isclose(testval, 1))"
   ]
  },
  {
   "cell_type": "code",
   "execution_count": null,
   "metadata": {},
   "outputs": [],
   "source": [
    "def test_input_cam(self):\n",
    "    modelPath = '../ssd_mobilenet_v1_coco_11_06_2017/frozen_inference_graph.pb'\n",
    "    labelMapPath = '../data/mscoco_label_map.pbtxt'\n",
    "    self.assertTrue(np.isclose(appfun.input_cam(modelPath, labelMapPath, True), 1)"
   ]
  },
  {
   "cell_type": "code",
   "execution_count": 5,
   "metadata": {},
   "outputs": [
    {
     "name": "stdout",
     "output_type": "stream",
     "text": [
      "You can press 'q' to close the detection window after you see it pops up!\n"
     ]
    },
    {
     "data": {
      "text/plain": [
       "True"
      ]
     },
     "execution_count": 5,
     "metadata": {},
     "output_type": "execute_result"
    }
   ],
   "source": [
    "modelPath = '../ssd_mobilenet_v1_coco_11_06_2017/frozen_inference_graph.pb'\n",
    "labelMapPath = '../data/mscoco_label_map.pbtxt'\n",
    "np.isclose(appfun.input_cam(modelPath, labelMapPath, True), 1)"
   ]
  },
  {
   "cell_type": "code",
   "execution_count": 2,
   "metadata": {},
   "outputs": [],
   "source": [
    "# Running unittests inside Jupyter requires some special code.\n",
    "# This code is encapsulated inthe function below. When you create\n",
    "# files containing unittests, it will look simpler.\n",
    "import unittest\n",
    "def test(test_class):\n",
    "    # Convenience function to run tests.\n",
    "    # test_class is the class containing the tests.\n",
    "    suite = unittest.TestLoader().loadTestsFromModule(test_class())\n",
    "    unittest.TextTestRunner().run(suite)"
   ]
  },
  {
   "cell_type": "code",
   "execution_count": 2,
   "metadata": {},
   "outputs": [],
   "source": [
    "import unittest\n",
    "import cv2\n",
    "import os\n",
    "import sys\n",
    "import numpy as np\n",
    "sys.path.insert(0, '../')\n",
    "from submodule import appfunction as appfun"
   ]
  },
  {
   "cell_type": "code",
   "execution_count": 10,
   "metadata": {},
   "outputs": [
    {
     "ename": "NameError",
     "evalue": "name '__file__' is not defined",
     "output_type": "error",
     "traceback": [
      "\u001b[0;31m---------------------------------------------------------------------------\u001b[0m",
      "\u001b[0;31mNameError\u001b[0m                                 Traceback (most recent call last)",
      "\u001b[0;32m<ipython-input-10-c3a474bcb4bb>\u001b[0m in \u001b[0;36m<module>\u001b[0;34m()\u001b[0m\n\u001b[1;32m      5\u001b[0m \u001b[0;32mimport\u001b[0m \u001b[0mnumpy\u001b[0m \u001b[0;32mas\u001b[0m \u001b[0mnp\u001b[0m\u001b[0;34m\u001b[0m\u001b[0m\n\u001b[1;32m      6\u001b[0m \u001b[0;31m# sys.path.insert(0, '../')\u001b[0m\u001b[0;34m\u001b[0m\u001b[0;34m\u001b[0m\u001b[0m\n\u001b[0;32m----> 7\u001b[0;31m \u001b[0msys\u001b[0m\u001b[0;34m.\u001b[0m\u001b[0mpath\u001b[0m\u001b[0;34m.\u001b[0m\u001b[0minsert\u001b[0m\u001b[0;34m(\u001b[0m\u001b[0;36m0\u001b[0m\u001b[0;34m,\u001b[0m \u001b[0mos\u001b[0m\u001b[0;34m.\u001b[0m\u001b[0mpath\u001b[0m\u001b[0;34m.\u001b[0m\u001b[0mabspath\u001b[0m\u001b[0;34m(\u001b[0m\u001b[0mos\u001b[0m\u001b[0;34m.\u001b[0m\u001b[0mpath\u001b[0m\u001b[0;34m.\u001b[0m\u001b[0mjoin\u001b[0m\u001b[0;34m(\u001b[0m\u001b[0mos\u001b[0m\u001b[0;34m.\u001b[0m\u001b[0mpath\u001b[0m\u001b[0;34m.\u001b[0m\u001b[0mdirname\u001b[0m\u001b[0;34m(\u001b[0m\u001b[0m__file__\u001b[0m\u001b[0;34m)\u001b[0m\u001b[0;34m,\u001b[0m \u001b[0;34m\"/..\"\u001b[0m\u001b[0;34m)\u001b[0m\u001b[0;34m)\u001b[0m\u001b[0;34m)\u001b[0m\u001b[0;34m\u001b[0m\u001b[0m\n\u001b[0m\u001b[1;32m      8\u001b[0m \u001b[0;32mfrom\u001b[0m \u001b[0msubmodule\u001b[0m \u001b[0;32mimport\u001b[0m \u001b[0mappfunction\u001b[0m \u001b[0;32mas\u001b[0m \u001b[0mappfun\u001b[0m\u001b[0;34m\u001b[0m\u001b[0m\n\u001b[1;32m      9\u001b[0m \u001b[0;34m\u001b[0m\u001b[0m\n",
      "\u001b[0;31mNameError\u001b[0m: name '__file__' is not defined"
     ]
    }
   ],
   "source": [
    "import unittest\n",
    "import cv2\n",
    "import os\n",
    "import sys\n",
    "import numpy as np\n",
    "sys.path.insert(0, '../')\n",
    "from submodule import appfunction as appfun\n",
    "\n",
    "class Object_detector_test(unittest.TestCase):\n",
    "    '''\n",
    "    This class tests main function used in this detector.\n",
    "    ''' \n",
    "    def test_input_image(self):\n",
    "        img_input = 'test_image.jpg'\n",
    "        modelPath = '../ssd_mobilenet_v1_coco_11_06_2017/frozen_inference_graph.pb'\n",
    "        labelMapPath = '../data/mscoco_label_map.pbtxt'\n",
    "        image_done, testval = appfun.input_image(img_input, modelPath, labelMapPath)\n",
    "        self.assertTrue(np.isclose(testval, 1))\n",
    "    \n",
    "    def test_input_cam(self):\n",
    "        modelPath = '../ssd_mobilenet_v1_coco_11_06_2017/frozen_inference_graph.pb'\n",
    "        labelMapPath = '../data/mscoco_label_map.pbtxt'\n",
    "        self.assertTrue(np.isclose(appfun.input_cam(modelPath, labelMapPath, True), 1))\n",
    "\n",
    "test(test_class=Object_detector_test)"
   ]
  },
  {
   "cell_type": "code",
   "execution_count": null,
   "metadata": {},
   "outputs": [],
   "source": []
  }
 ],
 "metadata": {
  "kernelspec": {
   "display_name": "tensorflow",
   "language": "python",
   "name": "tensorflow"
  },
  "language_info": {
   "codemirror_mode": {
    "name": "ipython",
    "version": 3
   },
   "file_extension": ".py",
   "mimetype": "text/x-python",
   "name": "python",
   "nbconvert_exporter": "python",
   "pygments_lexer": "ipython3",
   "version": "3.5.4"
  }
 },
 "nbformat": 4,
 "nbformat_minor": 2
}
