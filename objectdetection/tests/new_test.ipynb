{
 "cells": [
  {
   "cell_type": "code",
   "execution_count": 6,
   "metadata": {
    "collapsed": true
   },
   "outputs": [],
   "source": [
    "import unittest"
   ]
  },
  {
   "cell_type": "code",
   "execution_count": 7,
   "metadata": {
    "collapsed": true
   },
   "outputs": [],
   "source": [
    "import cv2\n",
    "import os\n",
    "import sys\n",
    "import numpy as np\n",
    "from tkinter import *"
   ]
  },
  {
   "cell_type": "code",
   "execution_count": 8,
   "metadata": {},
   "outputs": [],
   "source": [
    "sys.path.insert(0, '../')\n",
    "from submodule import object_detection_main as od\n",
    "from submodule import appfunction as appfun\n",
    "from user_interface import ObjectDetection_ui as ui"
   ]
  },
  {
   "cell_type": "code",
   "execution_count": 9,
   "metadata": {
    "collapsed": true
   },
   "outputs": [],
   "source": [
    "class Object_detector_test(unittest.TestCase):\n",
    "    '''\n",
    "    This class tests main function used in this detector.\n",
    "    '''\n",
    "    \n",
    "        \n",
    "    def test_input_image(self):\n",
    "        img_input = 'test_image.jpg'\n",
    "        modelPath = '../ssd_mobilenet_v1_coco_11_06_2017/frozen_inference_graph.pb'\n",
    "        labelMapPath = '../data/mscoco_label_map.pbtxt'\n",
    "        image_done, testval = appfun.input_image(img_input, modelPath, labelMapPath)\n",
    "        self.assertTrue(np.isclose(testval, 1))"
   ]
  },
  {
   "cell_type": "code",
   "execution_count": null,
   "metadata": {
    "collapsed": true
   },
   "outputs": [],
   "source": []
  }
 ],
 "metadata": {
  "kernelspec": {
   "display_name": "Python 3",
   "language": "python",
   "name": "python3"
  },
  "language_info": {
   "codemirror_mode": {
    "name": "ipython",
    "version": 3
   },
   "file_extension": ".py",
   "mimetype": "text/x-python",
   "name": "python",
   "nbconvert_exporter": "python",
   "pygments_lexer": "ipython3",
   "version": "3.5.2"
  }
 },
 "nbformat": 4,
 "nbformat_minor": 2
}
